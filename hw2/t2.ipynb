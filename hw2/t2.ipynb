{
 "cells": [
  {
   "cell_type": "markdown",
   "execution_count": null,
   "metadata": {},
   "outputs": [],
   "source": [
    "# INF 558: Building Knowledge Graphs\n",
    "## Report of Homework2: Information Extraction\n",
    "### Author: Zongdi Xu (USC ID 5900-5757-70)\n",
    "### Date: Jan 30, 2020"
   ]
  },
  {
   "cell_type": "markdown",
   "execution_count": null,
   "metadata": {},
   "outputs": [],
   "source": [
    "### Task 2.1\n",
    "\n",
    "From the page of [Jack Warden](https://www.imdb.com/name/nm0912001/bio?ref_=nm_ov_bio_sm), the attributes extracted from that biography text are showed as below:\n",
    "![title](./screenshot-2.1.png)"
   ]
  },
  {
   "cell_type": "markdown",
   "execution_count": null,
   "metadata": {},
   "outputs": [],
   "source": [
    "Pick the sentence `He played the coach on TV's Mister Peepers` for visualization:"
   ]
  },
  {
   "cell_type": "code",
   "execution_count": 1,
   "metadata": {},
   "outputs": [],
   "source": [
    "# !python3 -m spacy download en_core_web_sm\n",
    "import spacy\n",
    "import en_core_web_sm\n",
    "import csv\n",
    "nlp = en_core_web_sm.load()"
   ]
  },
  {
   "cell_type": "code",
   "execution_count": 2,
   "metadata": {},
   "outputs": [
    {
     "data": {
      "text/html": "<svg xmlns=\"http://www.w3.org/2000/svg\" xmlns:xlink=\"http://www.w3.org/1999/xlink\" xml:lang=\"en\" id=\"5d5d3c0b1b5c46b3b34589ce823abf74-0\" class=\"displacy\" width=\"914\" height=\"329.0\" direction=\"ltr\" style=\"max-width: none; height: 329.0px; color: #000000; background: #ffffff; font-family: Arial; direction: ltr\">\n<text class=\"displacy-token\" fill=\"currentColor\" text-anchor=\"middle\" y=\"239.0\">\n    <tspan class=\"displacy-word\" fill=\"currentColor\" x=\"50\">He</tspan>\n    <tspan class=\"displacy-tag\" dy=\"2em\" fill=\"currentColor\" x=\"50\">PRON</tspan>\n</text>\n\n<text class=\"displacy-token\" fill=\"currentColor\" text-anchor=\"middle\" y=\"239.0\">\n    <tspan class=\"displacy-word\" fill=\"currentColor\" x=\"146\">played</tspan>\n    <tspan class=\"displacy-tag\" dy=\"2em\" fill=\"currentColor\" x=\"146\">VERB</tspan>\n</text>\n\n<text class=\"displacy-token\" fill=\"currentColor\" text-anchor=\"middle\" y=\"239.0\">\n    <tspan class=\"displacy-word\" fill=\"currentColor\" x=\"242\">the</tspan>\n    <tspan class=\"displacy-tag\" dy=\"2em\" fill=\"currentColor\" x=\"242\">DET</tspan>\n</text>\n\n<text class=\"displacy-token\" fill=\"currentColor\" text-anchor=\"middle\" y=\"239.0\">\n    <tspan class=\"displacy-word\" fill=\"currentColor\" x=\"338\">coach</tspan>\n    <tspan class=\"displacy-tag\" dy=\"2em\" fill=\"currentColor\" x=\"338\">NOUN</tspan>\n</text>\n\n<text class=\"displacy-token\" fill=\"currentColor\" text-anchor=\"middle\" y=\"239.0\">\n    <tspan class=\"displacy-word\" fill=\"currentColor\" x=\"434\">on</tspan>\n    <tspan class=\"displacy-tag\" dy=\"2em\" fill=\"currentColor\" x=\"434\">ADP</tspan>\n</text>\n\n<text class=\"displacy-token\" fill=\"currentColor\" text-anchor=\"middle\" y=\"239.0\">\n    <tspan class=\"displacy-word\" fill=\"currentColor\" x=\"530\">TV</tspan>\n    <tspan class=\"displacy-tag\" dy=\"2em\" fill=\"currentColor\" x=\"530\">NOUN</tspan>\n</text>\n\n<text class=\"displacy-token\" fill=\"currentColor\" text-anchor=\"middle\" y=\"239.0\">\n    <tspan class=\"displacy-word\" fill=\"currentColor\" x=\"626\">'s</tspan>\n    <tspan class=\"displacy-tag\" dy=\"2em\" fill=\"currentColor\" x=\"626\">PART</tspan>\n</text>\n\n<text class=\"displacy-token\" fill=\"currentColor\" text-anchor=\"middle\" y=\"239.0\">\n    <tspan class=\"displacy-word\" fill=\"currentColor\" x=\"722\">Mister</tspan>\n    <tspan class=\"displacy-tag\" dy=\"2em\" fill=\"currentColor\" x=\"722\">PROPN</tspan>\n</text>\n\n<text class=\"displacy-token\" fill=\"currentColor\" text-anchor=\"middle\" y=\"239.0\">\n    <tspan class=\"displacy-word\" fill=\"currentColor\" x=\"818\">Peepers</tspan>\n    <tspan class=\"displacy-tag\" dy=\"2em\" fill=\"currentColor\" x=\"818\">PROPN</tspan>\n</text>\n\n<g class=\"displacy-arrow\">\n    <path class=\"displacy-arc\" id=\"arrow-5d5d3c0b1b5c46b3b34589ce823abf74-0-0\" stroke-width=\"2px\" d=\"M70,194.0 C70,146.0 131.0,146.0 131.0,194.0\" fill=\"none\" stroke=\"currentColor\"/>\n    <text dy=\"1.25em\" style=\"font-size: 0.8em; letter-spacing: 1px\">\n        <textPath xlink:href=\"#arrow-5d5d3c0b1b5c46b3b34589ce823abf74-0-0\" class=\"displacy-label\" startOffset=\"50%\" side=\"left\" fill=\"currentColor\" text-anchor=\"middle\">nsubj</textPath>\n    </text>\n    <path class=\"displacy-arrowhead\" d=\"M70,196.0 L62,184.0 78,184.0\" fill=\"currentColor\"/>\n</g>\n\n<g class=\"displacy-arrow\">\n    <path class=\"displacy-arc\" id=\"arrow-5d5d3c0b1b5c46b3b34589ce823abf74-0-1\" stroke-width=\"2px\" d=\"M262,194.0 C262,146.0 323.0,146.0 323.0,194.0\" fill=\"none\" stroke=\"currentColor\"/>\n    <text dy=\"1.25em\" style=\"font-size: 0.8em; letter-spacing: 1px\">\n        <textPath xlink:href=\"#arrow-5d5d3c0b1b5c46b3b34589ce823abf74-0-1\" class=\"displacy-label\" startOffset=\"50%\" side=\"left\" fill=\"currentColor\" text-anchor=\"middle\">det</textPath>\n    </text>\n    <path class=\"displacy-arrowhead\" d=\"M262,196.0 L254,184.0 270,184.0\" fill=\"currentColor\"/>\n</g>\n\n<g class=\"displacy-arrow\">\n    <path class=\"displacy-arc\" id=\"arrow-5d5d3c0b1b5c46b3b34589ce823abf74-0-2\" stroke-width=\"2px\" d=\"M166,194.0 C166,98.0 328.0,98.0 328.0,194.0\" fill=\"none\" stroke=\"currentColor\"/>\n    <text dy=\"1.25em\" style=\"font-size: 0.8em; letter-spacing: 1px\">\n        <textPath xlink:href=\"#arrow-5d5d3c0b1b5c46b3b34589ce823abf74-0-2\" class=\"displacy-label\" startOffset=\"50%\" side=\"left\" fill=\"currentColor\" text-anchor=\"middle\">dobj</textPath>\n    </text>\n    <path class=\"displacy-arrowhead\" d=\"M328.0,196.0 L336.0,184.0 320.0,184.0\" fill=\"currentColor\"/>\n</g>\n\n<g class=\"displacy-arrow\">\n    <path class=\"displacy-arc\" id=\"arrow-5d5d3c0b1b5c46b3b34589ce823abf74-0-3\" stroke-width=\"2px\" d=\"M358,194.0 C358,146.0 419.0,146.0 419.0,194.0\" fill=\"none\" stroke=\"currentColor\"/>\n    <text dy=\"1.25em\" style=\"font-size: 0.8em; letter-spacing: 1px\">\n        <textPath xlink:href=\"#arrow-5d5d3c0b1b5c46b3b34589ce823abf74-0-3\" class=\"displacy-label\" startOffset=\"50%\" side=\"left\" fill=\"currentColor\" text-anchor=\"middle\">prep</textPath>\n    </text>\n    <path class=\"displacy-arrowhead\" d=\"M419.0,196.0 L427.0,184.0 411.0,184.0\" fill=\"currentColor\"/>\n</g>\n\n<g class=\"displacy-arrow\">\n    <path class=\"displacy-arc\" id=\"arrow-5d5d3c0b1b5c46b3b34589ce823abf74-0-4\" stroke-width=\"2px\" d=\"M550,194.0 C550,50.0 813.0,50.0 813.0,194.0\" fill=\"none\" stroke=\"currentColor\"/>\n    <text dy=\"1.25em\" style=\"font-size: 0.8em; letter-spacing: 1px\">\n        <textPath xlink:href=\"#arrow-5d5d3c0b1b5c46b3b34589ce823abf74-0-4\" class=\"displacy-label\" startOffset=\"50%\" side=\"left\" fill=\"currentColor\" text-anchor=\"middle\">poss</textPath>\n    </text>\n    <path class=\"displacy-arrowhead\" d=\"M550,196.0 L542,184.0 558,184.0\" fill=\"currentColor\"/>\n</g>\n\n<g class=\"displacy-arrow\">\n    <path class=\"displacy-arc\" id=\"arrow-5d5d3c0b1b5c46b3b34589ce823abf74-0-5\" stroke-width=\"2px\" d=\"M550,194.0 C550,146.0 611.0,146.0 611.0,194.0\" fill=\"none\" stroke=\"currentColor\"/>\n    <text dy=\"1.25em\" style=\"font-size: 0.8em; letter-spacing: 1px\">\n        <textPath xlink:href=\"#arrow-5d5d3c0b1b5c46b3b34589ce823abf74-0-5\" class=\"displacy-label\" startOffset=\"50%\" side=\"left\" fill=\"currentColor\" text-anchor=\"middle\">case</textPath>\n    </text>\n    <path class=\"displacy-arrowhead\" d=\"M611.0,196.0 L619.0,184.0 603.0,184.0\" fill=\"currentColor\"/>\n</g>\n\n<g class=\"displacy-arrow\">\n    <path class=\"displacy-arc\" id=\"arrow-5d5d3c0b1b5c46b3b34589ce823abf74-0-6\" stroke-width=\"2px\" d=\"M742,194.0 C742,146.0 803.0,146.0 803.0,194.0\" fill=\"none\" stroke=\"currentColor\"/>\n    <text dy=\"1.25em\" style=\"font-size: 0.8em; letter-spacing: 1px\">\n        <textPath xlink:href=\"#arrow-5d5d3c0b1b5c46b3b34589ce823abf74-0-6\" class=\"displacy-label\" startOffset=\"50%\" side=\"left\" fill=\"currentColor\" text-anchor=\"middle\">compound</textPath>\n    </text>\n    <path class=\"displacy-arrowhead\" d=\"M742,196.0 L734,184.0 750,184.0\" fill=\"currentColor\"/>\n</g>\n\n<g class=\"displacy-arrow\">\n    <path class=\"displacy-arc\" id=\"arrow-5d5d3c0b1b5c46b3b34589ce823abf74-0-7\" stroke-width=\"2px\" d=\"M454,194.0 C454,2.0 818.0,2.0 818.0,194.0\" fill=\"none\" stroke=\"currentColor\"/>\n    <text dy=\"1.25em\" style=\"font-size: 0.8em; letter-spacing: 1px\">\n        <textPath xlink:href=\"#arrow-5d5d3c0b1b5c46b3b34589ce823abf74-0-7\" class=\"displacy-label\" startOffset=\"50%\" side=\"left\" fill=\"currentColor\" text-anchor=\"middle\">pobj</textPath>\n    </text>\n    <path class=\"displacy-arrowhead\" d=\"M818.0,196.0 L826.0,184.0 810.0,184.0\" fill=\"currentColor\"/>\n</g>\n</svg>",
      "text/plain": "<IPython.core.display.HTML object>"
     },
     "metadata": {},
     "output_type": "display_data"
    }
   ],
   "source": [
    "sentence = nlp(\"He played the coach on TV's Mister Peepers\")\n",
    "\n",
    "from spacy import displacy\n",
    "options = {\"distance\": 96}\n",
    "displacy.render(sentence, style=\"dep\", options=options)"
   ]
  },
  {
   "cell_type": "markdown",
   "execution_count": null,
   "metadata": {},
   "outputs": [],
   "source": [
    "### Task 2.2\n"
   ]
  },
  {
   "cell_type": "markdown",
   "execution_count": null,
   "metadata": {},
   "outputs": [],
   "source": [
    "The template to apply extrators to the original entries:"
   ]
  },
  {
   "cell_type": "code",
   "execution_count": 13,
   "metadata": {},
   "outputs": [],
   "source": [
    "import csv\n",
    "from spacy.matcher import Matcher\n",
    "tsv_reader = csv.reader(open('entities_bio.tsv'), delimiter='\\t')\n",
    "\n",
    "limit = 500\n",
    "count = 0\n",
    "\n",
    "def matching(doc, pattern):\n",
    "    result = []\n",
    "    for sent in doc.sents:\n",
    "        matcher = Matcher(nlp.vocab) \n",
    "        matcher.add(\"matching\", None, pattern)  \n",
    "\n",
    "        matches = matcher(nlp(str(sent))) \n",
    "        if len(matches)>0:\n",
    "            match = matches[-1]\n",
    "            span = sent[match[1]:match[2]] \n",
    "            result.append(span.text)\n",
    "\n",
    "    return result\n",
    "\n",
    "def max_length(list1, list2):\n",
    "    if len(list1)>len(list2):\n",
    "        return list1\n",
    "    else:\n",
    "        return list2\n",
    "\n",
    "with open('cast.jl', 'w') as fout:\n",
    "    for (idx, (url, bio)) in enumerate(tsv_reader):\n",
    "        count += 1\n",
    "        result = {}\n",
    "        result['url'] = url\n",
    "        result['spouse'] = max_length(matching(nlp(bio), pattern_spouse_lexical), matching(nlp(bio), pattern_spouse_syntactic))\n",
    "        result['education'] = max_length(matching(nlp(bio), pattern_education_lexical), matching(nlp(bio), pattern_education_syntactic))\n",
    "        result['parent'] = max_length(matching(nlp(bio), pattern_parent_lexical), matching(nlp(bio), pattern_parent_syntactic))\n",
    "        result['starred_in'] = max_length(matching(nlp(bio), pattern_starred_in_lexical), matching(nlp(bio), pattern_starred_in_syntactic))\n",
    "#         for idx, sent in enumerate(nlp(bio).sents):\n",
    "#             pass\n",
    "        fout.write(str(result)+'\\n')\n",
    "        if count>=limit:\n",
    "            break\n",
    "        pass\n",
    "    fout.close()"
   ]
  },
  {
   "cell_type": "markdown",
   "execution_count": null,
   "metadata": {},
   "outputs": [],
   "source": [
    "#### Lexical Extractors"
   ]
  },
  {
   "cell_type": "code",
   "execution_count": 3,
   "metadata": {},
   "outputs": [],
   "source": [
    "pattern_spouse_lexical = [\n",
    "            {'LOWER': 'married'},\n",
    "            {'OP': '*'},\n",
    "            {'LOWER': 'to'},\n",
    "            {'TEXT': {'REGEX': '\\s*'}, 'OP': '*'},\n",
    "            {'IS_PUNCT': True, 'OP': '*'},\n",
    "            {'TEXT': {'REGEX': '\\s*'}, 'OP': '+'},\n",
    "            ]"
   ]
  },
  {
   "cell_type": "code",
   "execution_count": 4,
   "metadata": {},
   "outputs": [],
   "source": [
    "pattern_parent_lexical = [\n",
    "            {'LOWER': 'born'},\n",
    "            {'OP': '*'},\n",
    "            {'LOWER': 'to'},\n",
    "            {'TEXT': {'REGEX': '\\s*'}, 'OP': '*'},\n",
    "            {'IS_PUNCT': True, 'OP': '*'},\n",
    "            {'TEXT': {'REGEX': '\\s*'}, 'OP': '+'},\n",
    "            {'IS_PUNCT': True, 'OP': '*'},\n",
    "            {'LOWER': 'and','OP': '?'},\n",
    "            {'TEXT': {'REGEX': '\\s*'}, 'OP': '*'},\n",
    "            {'IS_PUNCT': True, 'OP': '*'},\n",
    "            {'TEXT': {'REGEX': '\\s*'}, 'OP': '+'},\n",
    "            {'IS_PUNCT': True, 'OP': '*'},\n",
    "            ]"
   ]
  },
  {
   "cell_type": "code",
   "execution_count": 5,
   "metadata": {},
   "outputs": [],
   "source": [
    "pattern_education_lexical = [\n",
    "            {'TEXT': {'REGEX': '^(attend|attended)$'}},\n",
    "            {'OP': '+'},\n",
    "            ]"
   ]
  },
  {
   "cell_type": "code",
   "execution_count": 6,
   "metadata": {},
   "outputs": [],
   "source": [
    "pattern_starred_in_lexical = [\n",
    "            {'TEXT': {'REGEX': '^(star|starred)$'}},\n",
    "            {'LOWER': 'in'},\n",
    "            {'OP': '+'},\n",
    "            ]"
   ]
  },
  {
   "cell_type": "markdown",
   "execution_count": null,
   "metadata": {},
   "outputs": [],
   "source": [
    "#### Syntactic Extractors"
   ]
  },
  {
   "cell_type": "code",
   "execution_count": 7,
   "metadata": {},
   "outputs": [],
   "source": [
    "# define the pattern \n",
    "pattern_spouse_syntactic = [\n",
    "            {'POS': 'ADJ', 'LOWER': 'married'},\n",
    "            {'OP': '*'},\n",
    "            {'LOWER': 'to', 'POS': 'ADP'},\n",
    "            {'POS': 'ADJ', 'OP': '*'},\n",
    "            {'POS': 'NOUN', 'OP': '*'},\n",
    "            {'IS_PUNCT': True, 'OP': '*'},\n",
    "            {'ENT_TYPE': 'PERSON', 'OP': '+'},\n",
    "            ]"
   ]
  },
  {
   "cell_type": "code",
   "execution_count": 8,
   "metadata": {},
   "outputs": [],
   "source": [
    "pattern_parent_syntactic = [\n",
    "            {'POS': 'VERB', 'ORTH': 'born'},\n",
    "            {'OP': '*'},\n",
    "            {'LOWER': 'to', 'POS': 'ADP'},\n",
    "            {'POS': 'ADJ', 'OP': '*'},\n",
    "            {'POS': 'NOUN', 'OP': '*'},\n",
    "            {'IS_PUNCT': True, 'OP': '*'},\n",
    "            {'ENT_TYPE': 'PERSON', 'OP': '+'},\n",
    "            {'IS_PUNCT': True, 'OP': '*'},\n",
    "            {'LOWER': 'and', 'POS': 'CCONJ', 'OP': '?'},\n",
    "            {'POS': 'ADJ', 'OP': '*'},\n",
    "            {'POS': 'NOUN', 'OP': '*'},\n",
    "            {'IS_PUNCT': True, 'OP': '*'},\n",
    "            {'ENT_TYPE': 'PERSON', 'OP': '+'},\n",
    "            {'IS_PUNCT': True, 'OP': '*'},\n",
    "            ]"
   ]
  },
  {
   "cell_type": "code",
   "execution_count": 9,
   "metadata": {},
   "outputs": [],
   "source": [
    "pattern_education_syntactic = [\n",
    "            {'POS': 'VERB', 'LEMMA': 'attend'},\n",
    "            {'OP': '+'},\n",
    "            ]"
   ]
  },
  {
   "cell_type": "code",
   "execution_count": 10,
   "metadata": {},
   "outputs": [],
   "source": [
    "pattern_starred_in_syntactic = [\n",
    "            {'POS': 'VERB', 'LEMMA': 'star'},\n",
    "            {'POS': 'ADP', 'LOWER': 'in'},\n",
    "            {'OP': '+'},\n",
    "            ]\n"
   ]
  },
  {
   "cell_type": "code",
   "execution_count": null,
   "metadata": {},
   "outputs": [],
   "source": []
  }
 ],
 "metadata": {
  "file_extension": ".py",
  "kernelspec": {
   "display_name": "Python 3.7.4 64-bit",
   "language": "python",
   "name": "python37464bitb9939ca635144d608851c0e662fb1306"
  },
  "language_info": {
   "codemirror_mode": {
    "name": "ipython",
    "version": 3
   },
   "file_extension": ".py",
   "mimetype": "text/x-python",
   "name": "python",
   "nbconvert_exporter": "python",
   "pygments_lexer": "ipython3",
   "version": "3.7.4-final"
  },
  "mimetype": "text/x-python",
  "name": "python",
  "npconvert_exporter": "python",
  "pygments_lexer": "ipython3",
  "version": 3
 },
 "nbformat": 4,
 "nbformat_minor": 2
}
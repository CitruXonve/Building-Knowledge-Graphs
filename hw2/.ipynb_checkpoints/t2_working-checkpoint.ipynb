{
 "cells": [
  {
   "cell_type": "markdown",
   "metadata": {},
   "source": [
    "### Task 2.1\n",
    "\n",
    "From the page of [Jack Warden](https://www.imdb.com/name/nm0912001/bio?ref_=nm_ov_bio_sm), the attributes extracted from that biography text are showed as below:\n",
    "![title](./screenshot-2.1.png)"
   ]
  },
  {
   "cell_type": "code",
   "execution_count": null,
   "metadata": {},
   "outputs": [],
   "source": [
    "# !python3 -m spacy download en_core_web_sm\n",
    "import spacy\n",
    "import en_core_web_sm\n",
    "import csv\n",
    "nlp = en_core_web_sm.load()"
   ]
  },
  {
   "cell_type": "code",
   "execution_count": null,
   "metadata": {},
   "outputs": [],
   "source": [
    "sentence = nlp(\"He played the coach on TV's Mister Peepers (1952) with Wally Cox.\")\n",
    "\n",
    "from spacy import displacy\n",
    "options = {\"distance\": 120}\n",
    "displacy.render(sentence, style=\"dep\", options=options)"
   ]
  },
  {
   "cell_type": "markdown",
   "metadata": {},
   "source": [
    "### Task 2.2\n"
   ]
  },
  {
   "cell_type": "code",
   "execution_count": null,
   "metadata": {},
   "outputs": [],
   "source": []
  },
  {
   "cell_type": "code",
   "execution_count": null,
   "metadata": {},
   "outputs": [],
   "source": [
    "import csv\n",
    "tsv_reader = csv.reader(open('entities_bio.tsv'), delimiter='\\t')\n",
    "\n",
    "for (idx, (act, bio)) in enumerate(tsv_reader):\n",
    "    pass\n",
    "\n",
    "with open('semantics.txt', 'w') as fout:\n",
    "    for idx, sent in enumerate(nlp(bio).sents):\n",
    "        for w in nlp(str(sent)):\n",
    "            fout.write(f'{w.text:15s} [{w.tag_:5s} | {w.pos_:6s} | {spacy.explain(w.tag_)}] [{w.dep_}]\\n')\n",
    "            pass\n",
    "        fout.write('----------------------------\\n')\n",
    "        # break\n",
    "    fout.close()\n"
   ]
  },
  {
   "cell_type": "markdown",
   "metadata": {},
   "source": [
    "#### Lexical Extractors"
   ]
  },
  {
   "cell_type": "code",
   "execution_count": null,
   "metadata": {},
   "outputs": [],
   "source": [
    "from spacy.matcher import Matcher\n",
    "\n",
    "# define the pattern \n",
    "pattern = [\n",
    "            {'LOWER': 'married'},\n",
    "            {'OP': '*'},\n",
    "            {'LOWER': 'to'},\n",
    "            {'TEXT': {'REGEX': '\\s*'}, 'OP': '*'},\n",
    "            {'IS_PUNCT': True, 'OP': '*'},\n",
    "            {'TEXT': {'REGEX': '\\s*'}, 'OP': '+'},\n",
    "            ]\n",
    "   \n",
    "# Matcher class object \n",
    "matcher = Matcher(nlp.vocab) \n",
    "matcher.add(\"matching_spouse_lexical\", None, pattern) \n",
    "\n",
    "doc = nlp('He was married to French stage actress Wanda Ottoni, best known for her role as the object of Joe Besser''s desire in The Three Stooges short, Fifi Blows Her Top (1958).')\n",
    "\n",
    "matches = matcher(doc) \n",
    "# print(matches)\n",
    "if len(matches)>0:\n",
    "    # for match in matches:\n",
    "    match = matches[-1]\n",
    "    span = doc[match[1]:match[2]] \n",
    "    print(span.text)"
   ]
  },
  {
   "cell_type": "code",
   "execution_count": null,
   "metadata": {},
   "outputs": [],
   "source": [
    "from spacy.matcher import Matcher\n",
    "\n",
    "# define the pattern \n",
    "pattern = [\n",
    "            {'LOWER': 'born'},\n",
    "            {'OP': '*'},\n",
    "            {'LOWER': 'to'},\n",
    "            {'TEXT': {'REGEX': '\\s*'}, 'OP': '*'},\n",
    "            {'IS_PUNCT': True, 'OP': '*'},\n",
    "            {'TEXT': {'REGEX': '\\s*'}, 'OP': '+'},\n",
    "            {'IS_PUNCT': True, 'OP': '*'},\n",
    "            {'LOWER': 'and','OP': '?'},\n",
    "            {'TEXT': {'REGEX': '\\s*'}, 'OP': '*'},\n",
    "            {'IS_PUNCT': True, 'OP': '*'},\n",
    "            {'TEXT': {'REGEX': '\\s*'}, 'OP': '+'},\n",
    "            {'IS_PUNCT': True, 'OP': '*'},\n",
    "            ]\n",
    "   \n",
    "# Matcher class object \n",
    "matcher = Matcher(nlp.vocab) \n",
    "matcher.add(\"matching_parent_lexical\", None, pattern) \n",
    "\n",
    "doc = nlp('Jack Warden was born John Warden Lebzelter, Jr. on September 18, 1920 in Newark, New Jersey, to Laura M. (Costello) and John Warden Lebzelter.')\n",
    "\n",
    "matches = matcher(doc) \n",
    "# print(matches)\n",
    "if len(matches)>0:\n",
    "    # for match in matches:\n",
    "    match = matches[-1]\n",
    "    span = doc[match[1]:match[2]] \n",
    "    print(span.text)"
   ]
  },
  {
   "cell_type": "code",
   "execution_count": null,
   "metadata": {},
   "outputs": [],
   "source": [
    "from spacy.matcher import Matcher\n",
    "\n",
    "# define the pattern \n",
    "pattern = [\n",
    "            {'TEXT': {'REGEX': '^(attend|attended)$'}},\n",
    "            {'OP': '+'},\n",
    "            ]\n",
    "   \n",
    "# Matcher class object \n",
    "matcher = Matcher(nlp.vocab) \n",
    "matcher.add(\"matching_education_lexical\", None, pattern) \n",
    "\n",
    "doc = nlp('Since 1957 Scott appeared on a few television shows in the 1960s, during which time she attended the University of Southern California.')\n",
    "\n",
    "matches = matcher(doc) \n",
    "# print(matches)\n",
    "if len(matches)>0:\n",
    "    # for match in matches:\n",
    "    match = matches[-1]\n",
    "    span = doc[match[1]:match[2]] \n",
    "    print(span.text)"
   ]
  },
  {
   "cell_type": "code",
   "execution_count": null,
   "metadata": {},
   "outputs": [],
   "source": [
    "from spacy.matcher import Matcher\n",
    "\n",
    "# define the pattern \n",
    "pattern = [\n",
    "            {'TEXT': {'REGEX': '^(star|starred)$'}},\n",
    "            {'LOWER': 'in'},\n",
    "            {'OP': '+'},\n",
    "            ]\n",
    "   \n",
    "# Matcher class object \n",
    "matcher = Matcher(nlp.vocab) \n",
    "matcher.add(\"matching_starred_in_syntactic\", None, pattern) \n",
    "\n",
    "doc = nlp('After playing the part for nine years, he moved on to star in his own series, Kentucky Jones (1964).')\n",
    "\n",
    "matches = matcher(doc) \n",
    "# print(matches)\n",
    "if len(matches)>0:\n",
    "    # for match in matches:\n",
    "    match = matches[-1]\n",
    "    span = doc[match[1]:match[2]] \n",
    "    print(span.text)"
   ]
  },
  {
   "cell_type": "markdown",
   "metadata": {},
   "source": [
    "#### Syntactic Extractors"
   ]
  },
  {
   "cell_type": "code",
   "execution_count": null,
   "metadata": {},
   "outputs": [],
   "source": [
    "from spacy.matcher import Matcher\n",
    "\n",
    "# define the pattern \n",
    "pattern = [\n",
    "            {'POS': 'ADJ', 'LOWER': 'married'},\n",
    "            {'OP': '*'},\n",
    "            {'LOWER': 'to', 'POS': 'ADP'},\n",
    "            {'POS': 'ADJ', 'OP': '*'},\n",
    "            {'POS': 'NOUN', 'OP': '*'},\n",
    "            {'IS_PUNCT': True, 'OP': '*'},\n",
    "            {'ENT_TYPE': 'PERSON', 'OP': '+'},\n",
    "            ]\n",
    "   \n",
    "# Matcher class object \n",
    "matcher = Matcher(nlp.vocab) \n",
    "matcher.add(\"matching_spouse_syntactic\", None, pattern) \n",
    "\n",
    "doc = nlp('He was married to French stage actress Wanda Ottoni, best known for her role as the object of Joe Besser''s desire in The Three Stooges short, Fifi Blows Her Top (1958).')\n",
    "\n",
    "matches = matcher(doc) \n",
    "# print(matches)\n",
    "if len(matches)>0:\n",
    "    # for match in matches:\n",
    "    match = matches[-1]\n",
    "    span = doc[match[1]:match[2]] \n",
    "    print(span.text)"
   ]
  },
  {
   "cell_type": "code",
   "execution_count": null,
   "metadata": {},
   "outputs": [],
   "source": [
    "from spacy.matcher import Matcher\n",
    "\n",
    "# define the pattern \n",
    "pattern = [\n",
    "            {'POS': 'VERB', 'ORTH': 'born'},\n",
    "            {'OP': '*'},\n",
    "            {'LOWER': 'to', 'POS': 'ADP'},\n",
    "            {'POS': 'ADJ', 'OP': '*'},\n",
    "            {'POS': 'NOUN', 'OP': '*'},\n",
    "            {'IS_PUNCT': True, 'OP': '*'},\n",
    "            {'ENT_TYPE': 'PERSON', 'OP': '+'},\n",
    "            {'IS_PUNCT': True, 'OP': '*'},\n",
    "            {'LOWER': 'and', 'POS': 'CCONJ', 'OP': '?'},\n",
    "            {'POS': 'ADJ', 'OP': '*'},\n",
    "            {'POS': 'NOUN', 'OP': '*'},\n",
    "            {'IS_PUNCT': True, 'OP': '*'},\n",
    "            {'ENT_TYPE': 'PERSON', 'OP': '+'},\n",
    "            {'IS_PUNCT': True, 'OP': '*'},\n",
    "            ]\n",
    "   \n",
    "# Matcher class object \n",
    "matcher = Matcher(nlp.vocab) \n",
    "matcher.add(\"matching_parent_syntactic\", None, pattern) \n",
    "\n",
    "doc = nlp('Jack Warden was born John Warden Lebzelter, Jr. on September 18, 1920 in Newark, New Jersey, to Laura M. (Costello) and John Warden Lebzelter.')\n",
    "\n",
    "matches = matcher(doc) \n",
    "# print(matches)\n",
    "if len(matches)>0:\n",
    "    # for match in matches:\n",
    "    match = matches[-1]\n",
    "    span = doc[match[1]:match[2]] \n",
    "    print(span.text)"
   ]
  },
  {
   "cell_type": "code",
   "execution_count": null,
   "metadata": {},
   "outputs": [],
   "source": [
    "from spacy.matcher import Matcher\n",
    "\n",
    "# define the pattern \n",
    "pattern = [\n",
    "            {'POS': 'VERB', 'LEMMA': 'attend'},\n",
    "            {'OP': '+'},\n",
    "            ]\n",
    "   \n",
    "# Matcher class object \n",
    "matcher = Matcher(nlp.vocab) \n",
    "matcher.add(\"matching_education_syntactic\", None, pattern) \n",
    "\n",
    "doc = nlp('Since 1957 Scott appeared on a few television shows in the 1960s, during which time she attended the University of Southern California.')\n",
    "\n",
    "matches = matcher(doc) \n",
    "# print(matches)\n",
    "if len(matches)>0:\n",
    "    # for match in matches:\n",
    "    match = matches[-1]\n",
    "    span = doc[match[1]:match[2]] \n",
    "    print(span.text)"
   ]
  },
  {
   "cell_type": "code",
   "execution_count": null,
   "metadata": {},
   "outputs": [],
   "source": [
    "from spacy.matcher import Matcher\n",
    "\n",
    "# define the pattern \n",
    "pattern = [\n",
    "            {'POS': 'VERB', 'LEMMA': 'star'},\n",
    "            {'POS': 'ADP', 'LOWER': 'in'},\n",
    "            {'OP': '+'},\n",
    "            ]\n",
    "   \n",
    "# Matcher class object \n",
    "matcher = Matcher(nlp.vocab) \n",
    "matcher.add(\"matching_starred_in_syntactic\", None, pattern) \n",
    "\n",
    "doc = nlp('After playing the part for nine years, he moved on to star in his own series, Kentucky Jones (1964).')\n",
    "\n",
    "matches = matcher(doc) \n",
    "# print(matches)\n",
    "if len(matches)>0:\n",
    "    # for match in matches:\n",
    "    match = matches[-1]\n",
    "    span = doc[match[1]:match[2]] \n",
    "    print(span.text)"
   ]
  },
  {
   "cell_type": "code",
   "execution_count": null,
   "metadata": {},
   "outputs": [],
   "source": []
  }
 ],
 "metadata": {
  "file_extension": ".py",
  "kernelspec": {
   "display_name": "Python 3.7.4 64-bit",
   "language": "python",
   "name": "python37464bitb9939ca635144d608851c0e662fb1306"
  },
  "language_info": {
   "codemirror_mode": {
    "name": "ipython",
    "version": 3
   },
   "file_extension": ".py",
   "mimetype": "text/x-python",
   "name": "python",
   "nbconvert_exporter": "python",
   "pygments_lexer": "ipython3",
   "version": "3.7.4"
  },
  "mimetype": "text/x-python",
  "name": "python",
  "npconvert_exporter": "python",
  "pygments_lexer": "ipython3",
  "version": 3
 },
 "nbformat": 4,
 "nbformat_minor": 2
}

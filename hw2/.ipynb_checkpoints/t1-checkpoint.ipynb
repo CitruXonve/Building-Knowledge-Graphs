{
 "cells": [
  {
   "cell_type": "code",
   "execution_count": 1,
   "metadata": {},
   "outputs": [
    {
     "data": {
      "text/plain": [
       "['https://www.imdb.com/name/nm2887056/bio?ref_=nm_ov_bio_sm',\n",
       " 'https://www.imdb.com/name/nm0136702/bio?ref_=nm_ov_bio_sm',\n",
       " 'https://www.imdb.com/name/nm2253241/bio?ref_=nm_ov_bio_sm',\n",
       " 'https://www.imdb.com/name/nm0399685/bio?ref_=nm_ov_bio_sm',\n",
       " 'https://www.imdb.com/name/nm0771133/bio?ref_=nm_ov_bio_sm',\n",
       " 'https://www.imdb.com/name/nm0275975/bio?ref_=nm_ov_bio_sm',\n",
       " 'https://www.imdb.com/name/nm1086422/bio?ref_=nm_ov_bio_sm',\n",
       " 'https://www.imdb.com/name/nm0508849/bio?ref_=nm_ov_bio_sm',\n",
       " 'https://www.imdb.com/name/nm0372441/bio?ref_=nm_ov_bio_sm',\n",
       " 'https://www.imdb.com/name/nm0245228/bio?ref_=nm_ov_bio_sm']"
      ]
     },
     "execution_count": 1,
     "metadata": {},
     "output_type": "execute_result"
    }
   ],
   "source": [
    "import json\n",
    "\n",
    "source_list = []\n",
    "\n",
    "with open('../hw1/Zongdi_Xu_hw01_scrapy_cast.jl') as fin:\n",
    "    for line in fin.readlines():\n",
    "        source_list.append(json.loads(line)['url']+'bio?ref_=nm_ov_bio_sm')\n",
    "        pass\n",
    "\n",
    "source_list[-10:]"
   ]
  },
  {
   "cell_type": "code",
   "execution_count": null,
   "metadata": {},
   "outputs": [],
   "source": []
  },
  {
   "cell_type": "code",
   "execution_count": null,
   "metadata": {},
   "outputs": [],
   "source": []
  },
  {
   "cell_type": "code",
   "execution_count": 2,
   "metadata": {},
   "outputs": [],
   "source": [
    "from bs4 import BeautifulSoup\n",
    "import requests\n",
    "import re\n",
    "\n",
    "fout = open('entities_bio.tsv', 'w')\n",
    "\n",
    "for url in source_list[:50]:\n",
    "    response = requests.get(url)\n",
    "    soup = BeautifulSoup(response.content)\n",
    "    for elem in soup.find(id='bio_content').select('div.soda.odd > p'):\n",
    "        text = elem.text.strip()\n",
    "        text = re.sub(r'\\s+', ' ', text)\n",
    "        fout.write(url+'\\t'+text.strip()+'\\n')\n",
    "\n",
    "fout.close()"
   ]
  },
  {
   "cell_type": "code",
   "execution_count": null,
   "metadata": {},
   "outputs": [],
   "source": []
  }
 ],
 "metadata": {
  "file_extension": ".py",
  "kernelspec": {
   "display_name": "Python 3.7.4 64-bit",
   "language": "python",
   "name": "python37464bitb9939ca635144d608851c0e662fb1306"
  },
  "language_info": {
   "codemirror_mode": {
    "name": "ipython",
    "version": 3
   },
   "file_extension": ".py",
   "mimetype": "text/x-python",
   "name": "python",
   "nbconvert_exporter": "python",
   "pygments_lexer": "ipython3",
   "version": "3.7.4"
  },
  "mimetype": "text/x-python",
  "name": "python",
  "npconvert_exporter": "python",
  "pygments_lexer": "ipython3",
  "version": 3
 },
 "nbformat": 4,
 "nbformat_minor": 2
}

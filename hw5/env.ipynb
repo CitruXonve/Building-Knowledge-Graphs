{
 "cells": [
  {
   "cell_type": "code",
   "execution_count": 1,
   "metadata": {},
   "outputs": [
    {
     "data": {
      "text/plain": "['/private/var/folders/kt/v6bvd2b90qg4gtnfyrf0dr1w0000gn/T/fe606727-b288-49ef-a5ed-e6bde88648d5',\n '/Users/crxon/.vscode/extensions/ms-python.python-2020.2.64397/pythonFiles',\n '/Users/crxon/.vscode/extensions/ms-python.python-2020.2.64397/pythonFiles/lib/python',\n '/Library/Developer/CommandLineTools/Library/Frameworks/Python3.framework/Versions/3.7/lib/python37.zip',\n '/Library/Developer/CommandLineTools/Library/Frameworks/Python3.framework/Versions/3.7/lib/python3.7',\n '/Library/Developer/CommandLineTools/Library/Frameworks/Python3.framework/Versions/3.7/lib/python3.7/lib-dynload',\n '',\n '/Users/crxon/558/env/lib/python3.7/site-packages',\n '/Users/crxon/558/env/lib/python3.7/site-packages/IPython/extensions',\n '/Users/crxon/.ipython']"
     },
     "execution_count": 1,
     "metadata": {},
     "output_type": "execute_result"
    }
   ],
   "source": [
    "import sys\n",
    "sys.path"
   ]
  },
  {
   "cell_type": "code",
   "execution_count": 1,
   "metadata": {},
   "outputs": [
    {
     "output_type": "execute_result",
     "data": {
      "text/plain": "'/Users/crxon/558/hw5'"
     },
     "metadata": {},
     "execution_count": 1
    }
   ],
   "source": [
    "import os\n",
    "os.getcwd()"
   ]
  },
  {
   "cell_type": "code",
   "execution_count": 3,
   "metadata": {},
   "outputs": [
    {
     "output_type": "execute_result",
     "data": {
      "text/plain": "<function utils.reload_external_labels(session: sessionmaker(class_='Session', bind=Engine(sqlite:////Users/crxon/558/hw5/snorkel.db), autoflush=True, autocommit=False, expire_on_commit=True), input_file: Union[str, pathlib.Path], annotator_name: str = 'gold')>"
     },
     "metadata": {},
     "execution_count": 3
    }
   ],
   "source": [
    "from utils import *\n",
    "\n",
    "reload_external_labels"
   ]
  },
  {
   "cell_type": "code",
   "execution_count": null,
   "metadata": {},
   "outputs": [],
   "source": []
  }
 ],
 "metadata": {
  "kernelspec": {
   "display_name": "Python 3.7.3 64-bit ('env': venv)",
   "language": "python",
   "name": "python37364bitenvvenvb595544a4f9446539c2fdfb19b07433b"
  }
 },
 "nbformat": 4,
 "nbformat_minor": 4
}